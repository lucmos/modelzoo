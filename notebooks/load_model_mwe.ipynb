{
 "cells": [
  {
   "cell_type": "code",
   "execution_count": 2,
   "metadata": {},
   "outputs": [
    {
     "data": {
      "text/html": [
       "<div>\n",
       "<style scoped>\n",
       "    .dataframe tbody tr th:only-of-type {\n",
       "        vertical-align: middle;\n",
       "    }\n",
       "\n",
       "    .dataframe tbody tr th {\n",
       "        vertical-align: top;\n",
       "    }\n",
       "\n",
       "    .dataframe thead th {\n",
       "        text-align: right;\n",
       "    }\n",
       "</style>\n",
       "<table border=\"1\" class=\"dataframe\">\n",
       "  <thead>\n",
       "    <tr style=\"text-align: right;\">\n",
       "      <th></th>\n",
       "      <th>timestamp</th>\n",
       "      <th>seed_index</th>\n",
       "      <th>entity</th>\n",
       "      <th>project_name</th>\n",
       "      <th>wandb_id</th>\n",
       "      <th>name</th>\n",
       "      <th>dataset</th>\n",
       "      <th>score</th>\n",
       "      <th>module</th>\n",
       "      <th>model</th>\n",
       "      <th>parameters</th>\n",
       "      <th>trainable_parameters</th>\n",
       "      <th>path</th>\n",
       "      <th>version</th>\n",
       "      <th>commit</th>\n",
       "      <th>tags</th>\n",
       "    </tr>\n",
       "  </thead>\n",
       "  <tbody>\n",
       "    <tr>\n",
       "      <th>0</th>\n",
       "      <td>2023-09-10 19:00:16.260682+00:00</td>\n",
       "      <td>0</td>\n",
       "      <td>gladia</td>\n",
       "      <td>modelzoo</td>\n",
       "      <td>5u76loc2</td>\n",
       "      <td>NaN</td>\n",
       "      <td>mnist</td>\n",
       "      <td>0.000040</td>\n",
       "      <td>modelzoo.pl_modules.aes.pl_autoencoder.Lightni...</td>\n",
       "      <td>modelzoo.modules.aes.ae.VanillaAE</td>\n",
       "      <td>49841</td>\n",
       "      <td>49841</td>\n",
       "      <td>models/checkpoints/5u76loc2.ckpt.zip</td>\n",
       "      <td>0.0.1</td>\n",
       "      <td>615d83e2cda7de04a1404bb5392755df9a57dbb6</td>\n",
       "      <td>aes,ae,mnist,run0</td>\n",
       "    </tr>\n",
       "    <tr>\n",
       "      <th>1</th>\n",
       "      <td>2023-09-10 19:33:37.491249+00:00</td>\n",
       "      <td>1</td>\n",
       "      <td>gladia</td>\n",
       "      <td>modelzoo</td>\n",
       "      <td>bkn3fe2a</td>\n",
       "      <td>NaN</td>\n",
       "      <td>mnist</td>\n",
       "      <td>0.000014</td>\n",
       "      <td>modelzoo.pl_modules.aes.pl_autoencoder.Lightni...</td>\n",
       "      <td>modelzoo.modules.aes.ae.VanillaAE</td>\n",
       "      <td>49841</td>\n",
       "      <td>49841</td>\n",
       "      <td>models/checkpoints/bkn3fe2a.ckpt.zip</td>\n",
       "      <td>0.0.1</td>\n",
       "      <td>615d83e2cda7de04a1404bb5392755df9a57dbb6</td>\n",
       "      <td>aes,ae,mnist,run1</td>\n",
       "    </tr>\n",
       "    <tr>\n",
       "      <th>2</th>\n",
       "      <td>2023-09-10 19:46:07.967669+00:00</td>\n",
       "      <td>2</td>\n",
       "      <td>gladia</td>\n",
       "      <td>modelzoo</td>\n",
       "      <td>425l6pw4</td>\n",
       "      <td>NaN</td>\n",
       "      <td>mnist</td>\n",
       "      <td>0.000052</td>\n",
       "      <td>modelzoo.pl_modules.aes.pl_autoencoder.Lightni...</td>\n",
       "      <td>modelzoo.modules.aes.ae.VanillaAE</td>\n",
       "      <td>49841</td>\n",
       "      <td>49841</td>\n",
       "      <td>models/checkpoints/425l6pw4.ckpt.zip</td>\n",
       "      <td>0.0.1</td>\n",
       "      <td>615d83e2cda7de04a1404bb5392755df9a57dbb6</td>\n",
       "      <td>aes,ae,mnist,run2</td>\n",
       "    </tr>\n",
       "    <tr>\n",
       "      <th>3</th>\n",
       "      <td>2023-09-10 20:19:17.113465+00:00</td>\n",
       "      <td>3</td>\n",
       "      <td>gladia</td>\n",
       "      <td>modelzoo</td>\n",
       "      <td>986qd2j1</td>\n",
       "      <td>NaN</td>\n",
       "      <td>mnist</td>\n",
       "      <td>0.000020</td>\n",
       "      <td>modelzoo.pl_modules.aes.pl_autoencoder.Lightni...</td>\n",
       "      <td>modelzoo.modules.aes.ae.VanillaAE</td>\n",
       "      <td>49841</td>\n",
       "      <td>49841</td>\n",
       "      <td>models/checkpoints/986qd2j1.ckpt.zip</td>\n",
       "      <td>0.0.1</td>\n",
       "      <td>615d83e2cda7de04a1404bb5392755df9a57dbb6</td>\n",
       "      <td>aes,ae,mnist,run3</td>\n",
       "    </tr>\n",
       "    <tr>\n",
       "      <th>4</th>\n",
       "      <td>2023-09-10 20:48:26.564478+00:00</td>\n",
       "      <td>4</td>\n",
       "      <td>gladia</td>\n",
       "      <td>modelzoo</td>\n",
       "      <td>ll5sve9p</td>\n",
       "      <td>NaN</td>\n",
       "      <td>mnist</td>\n",
       "      <td>0.000032</td>\n",
       "      <td>modelzoo.pl_modules.aes.pl_autoencoder.Lightni...</td>\n",
       "      <td>modelzoo.modules.aes.ae.VanillaAE</td>\n",
       "      <td>49841</td>\n",
       "      <td>49841</td>\n",
       "      <td>models/checkpoints/ll5sve9p.ckpt.zip</td>\n",
       "      <td>0.0.1</td>\n",
       "      <td>615d83e2cda7de04a1404bb5392755df9a57dbb6</td>\n",
       "      <td>aes,ae,mnist,run4</td>\n",
       "    </tr>\n",
       "  </tbody>\n",
       "</table>\n",
       "</div>"
      ],
      "text/plain": [
       "                          timestamp  seed_index  entity project_name  \\\n",
       "0  2023-09-10 19:00:16.260682+00:00           0  gladia     modelzoo   \n",
       "1  2023-09-10 19:33:37.491249+00:00           1  gladia     modelzoo   \n",
       "2  2023-09-10 19:46:07.967669+00:00           2  gladia     modelzoo   \n",
       "3  2023-09-10 20:19:17.113465+00:00           3  gladia     modelzoo   \n",
       "4  2023-09-10 20:48:26.564478+00:00           4  gladia     modelzoo   \n",
       "\n",
       "   wandb_id  name dataset     score  \\\n",
       "0  5u76loc2   NaN   mnist  0.000040   \n",
       "1  bkn3fe2a   NaN   mnist  0.000014   \n",
       "2  425l6pw4   NaN   mnist  0.000052   \n",
       "3  986qd2j1   NaN   mnist  0.000020   \n",
       "4  ll5sve9p   NaN   mnist  0.000032   \n",
       "\n",
       "                                              module  \\\n",
       "0  modelzoo.pl_modules.aes.pl_autoencoder.Lightni...   \n",
       "1  modelzoo.pl_modules.aes.pl_autoencoder.Lightni...   \n",
       "2  modelzoo.pl_modules.aes.pl_autoencoder.Lightni...   \n",
       "3  modelzoo.pl_modules.aes.pl_autoencoder.Lightni...   \n",
       "4  modelzoo.pl_modules.aes.pl_autoencoder.Lightni...   \n",
       "\n",
       "                               model  parameters  trainable_parameters  \\\n",
       "0  modelzoo.modules.aes.ae.VanillaAE       49841                 49841   \n",
       "1  modelzoo.modules.aes.ae.VanillaAE       49841                 49841   \n",
       "2  modelzoo.modules.aes.ae.VanillaAE       49841                 49841   \n",
       "3  modelzoo.modules.aes.ae.VanillaAE       49841                 49841   \n",
       "4  modelzoo.modules.aes.ae.VanillaAE       49841                 49841   \n",
       "\n",
       "                                   path version  \\\n",
       "0  models/checkpoints/5u76loc2.ckpt.zip   0.0.1   \n",
       "1  models/checkpoints/bkn3fe2a.ckpt.zip   0.0.1   \n",
       "2  models/checkpoints/425l6pw4.ckpt.zip   0.0.1   \n",
       "3  models/checkpoints/986qd2j1.ckpt.zip   0.0.1   \n",
       "4  models/checkpoints/ll5sve9p.ckpt.zip   0.0.1   \n",
       "\n",
       "                                     commit               tags  \n",
       "0  615d83e2cda7de04a1404bb5392755df9a57dbb6  aes,ae,mnist,run0  \n",
       "1  615d83e2cda7de04a1404bb5392755df9a57dbb6  aes,ae,mnist,run1  \n",
       "2  615d83e2cda7de04a1404bb5392755df9a57dbb6  aes,ae,mnist,run2  \n",
       "3  615d83e2cda7de04a1404bb5392755df9a57dbb6  aes,ae,mnist,run3  \n",
       "4  615d83e2cda7de04a1404bb5392755df9a57dbb6  aes,ae,mnist,run4  "
      ]
     },
     "execution_count": 2,
     "metadata": {},
     "output_type": "execute_result"
    }
   ],
   "source": [
    "from modelzoo import PACKAGE_ROOT\n",
    "import pandas as pd\n",
    "\n",
    "\n",
    "models = pd.read_csv(PACKAGE_ROOT / \"models\" / \"index.csv\", sep=\"\\t\")\n",
    "models.head()\n"
   ]
  },
  {
   "cell_type": "code",
   "execution_count": 3,
   "metadata": {},
   "outputs": [
    {
     "name": "stderr",
     "output_type": "stream",
     "text": [
      "/tmp/ipykernel_2218653/1171497871.py:2: UserWarning: Boolean Series key will be reindexed to match DataFrame index.\n",
      "  row = models[models.model == \"modelzoo.modules.aes.ae.VanillaAE\"][models.dataset == \"cifar100\"].iloc[0]\n"
     ]
    },
    {
     "data": {
      "text/plain": [
       "('gladia', 'modelzoo', 'tb456vbu', 'models/checkpoints/tb456vbu.ckpt.zip')"
      ]
     },
     "execution_count": 3,
     "metadata": {},
     "output_type": "execute_result"
    }
   ],
   "source": [
    "# row = models.iloc[30]\n",
    "row = models[models.model == \"modelzoo.modules.aes.ae.VanillaAE\"][models.dataset == \"cifar100\"].iloc[0]\n",
    "\n",
    "entity, project_name, run_id, path = row[\"entity\"], row[\"project_name\"], row[\"wandb_id\"], row[\"path\"]\n",
    "entity, project_name, run_id, path\n"
   ]
  },
  {
   "cell_type": "markdown",
   "metadata": {},
   "source": [
    "## W&B Loading"
   ]
  },
  {
   "cell_type": "code",
   "execution_count": 4,
   "metadata": {},
   "outputs": [],
   "source": [
    "# from modelzoo.utils.io_model import load_wandb_ckpt\n",
    "\n",
    "# # Load the remote model\n",
    "# model, ckpt = load_wandb_ckpt(entity, project_name, run_id)\n",
    "# model\n"
   ]
  },
  {
   "cell_type": "markdown",
   "metadata": {},
   "source": [
    "## Local loading"
   ]
  },
  {
   "cell_type": "code",
   "execution_count": 5,
   "metadata": {},
   "outputs": [
    {
     "data": {
      "text/html": [
       "<pre style=\"white-space:pre;overflow-x:auto;line-height:normal;font-family:Menlo,'DejaVu Sans Mono',consolas,'Courier New',monospace\"><span style=\"color: #7fbfbf; text-decoration-color: #7fbfbf\">2023-10-12 16:39:39 </span><span style=\"color: #000080; text-decoration-color: #000080\">INFO    </span> Created a temporary directory at              <a href=\"file:///root/miniconda3/envs/modelzoo/lib/python3.11/site-packages/torch/distributed/nn/jit/instantiator.py\" target=\"_blank\"><span style=\"color: #7f7f7f; text-decoration-color: #7f7f7f\">torch.distributed.nn.jit.instantiator</span></a><span style=\"color: #7f7f7f; text-decoration-color: #7f7f7f\">:</span><a href=\"file:///root/miniconda3/envs/modelzoo/lib/python3.11/site-packages/torch/distributed/nn/jit/instantiator.py#21\" target=\"_blank\"><span style=\"color: #7f7f7f; text-decoration-color: #7f7f7f\">21</span></a>\n",
       "<span style=\"color: #7fbfbf; text-decoration-color: #7fbfbf\">                    </span>         <span style=\"color: #800080; text-decoration-color: #800080\">/tmp/</span><span style=\"color: #ff00ff; text-decoration-color: #ff00ff\">tmp3bcel5ay</span>                              <span style=\"color: #7f7f7f; text-decoration-color: #7f7f7f\">                                        </span>\n",
       "</pre>\n"
      ],
      "text/plain": [
       "\u001b[2;36m2023-10-12 16:39:39\u001b[0m\u001b[2;36m \u001b[0m\u001b[34mINFO    \u001b[0m Created a temporary directory at              \u001b]8;id=428208;file:///root/miniconda3/envs/modelzoo/lib/python3.11/site-packages/torch/distributed/nn/jit/instantiator.py\u001b\\\u001b[2mtorch.distributed.nn.jit.instantiator\u001b[0m\u001b]8;;\u001b\\\u001b[2m:\u001b[0m\u001b]8;id=932672;file:///root/miniconda3/envs/modelzoo/lib/python3.11/site-packages/torch/distributed/nn/jit/instantiator.py#21\u001b\\\u001b[2m21\u001b[0m\u001b]8;;\u001b\\\n",
       "\u001b[2;36m                    \u001b[0m         \u001b[35m/tmp/\u001b[0m\u001b[95mtmp3bcel5ay\u001b[0m                              \u001b[2m                                        \u001b[0m\n"
      ]
     },
     "metadata": {},
     "output_type": "display_data"
    },
    {
     "data": {
      "text/html": [
       "<pre style=\"white-space:pre;overflow-x:auto;line-height:normal;font-family:Menlo,'DejaVu Sans Mono',consolas,'Courier New',monospace\"><span style=\"color: #7fbfbf; text-decoration-color: #7fbfbf\">                    </span><span style=\"color: #000080; text-decoration-color: #000080\">INFO    </span> Writing                                       <a href=\"file:///root/miniconda3/envs/modelzoo/lib/python3.11/site-packages/torch/distributed/nn/jit/instantiator.py\" target=\"_blank\"><span style=\"color: #7f7f7f; text-decoration-color: #7f7f7f\">torch.distributed.nn.jit.instantiator</span></a><span style=\"color: #7f7f7f; text-decoration-color: #7f7f7f\">:</span><a href=\"file:///root/miniconda3/envs/modelzoo/lib/python3.11/site-packages/torch/distributed/nn/jit/instantiator.py#76\" target=\"_blank\"><span style=\"color: #7f7f7f; text-decoration-color: #7f7f7f\">76</span></a>\n",
       "<span style=\"color: #7fbfbf; text-decoration-color: #7fbfbf\">                    </span>         <span style=\"color: #800080; text-decoration-color: #800080\">/tmp/tmp3bcel5ay/</span><span style=\"color: #ff00ff; text-decoration-color: #ff00ff\">_remote_module_non_scriptabl</span> <span style=\"color: #7f7f7f; text-decoration-color: #7f7f7f\">                                        </span>\n",
       "<span style=\"color: #7fbfbf; text-decoration-color: #7fbfbf\">                    </span>         <span style=\"color: #ff00ff; text-decoration-color: #ff00ff\">e.py</span>                                          <span style=\"color: #7f7f7f; text-decoration-color: #7f7f7f\">                                        </span>\n",
       "</pre>\n"
      ],
      "text/plain": [
       "\u001b[2;36m                   \u001b[0m\u001b[2;36m \u001b[0m\u001b[34mINFO    \u001b[0m Writing                                       \u001b]8;id=597925;file:///root/miniconda3/envs/modelzoo/lib/python3.11/site-packages/torch/distributed/nn/jit/instantiator.py\u001b\\\u001b[2mtorch.distributed.nn.jit.instantiator\u001b[0m\u001b]8;;\u001b\\\u001b[2m:\u001b[0m\u001b]8;id=78153;file:///root/miniconda3/envs/modelzoo/lib/python3.11/site-packages/torch/distributed/nn/jit/instantiator.py#76\u001b\\\u001b[2m76\u001b[0m\u001b]8;;\u001b\\\n",
       "\u001b[2;36m                    \u001b[0m         \u001b[35m/tmp/tmp3bcel5ay/\u001b[0m\u001b[95m_remote_module_non_scriptabl\u001b[0m \u001b[2m                                        \u001b[0m\n",
       "\u001b[2;36m                    \u001b[0m         \u001b[95me.py\u001b[0m                                          \u001b[2m                                        \u001b[0m\n"
      ]
     },
     "metadata": {},
     "output_type": "display_data"
    },
    {
     "name": "stderr",
     "output_type": "stream",
     "text": [
      "/root/miniconda3/envs/modelzoo/lib/python3.11/site-packages/tqdm/auto.py:21: TqdmWarning: IProgress not found. Please update jupyter and ipywidgets. See https://ipywidgets.readthedocs.io/en/stable/user_install.html\n",
      "  from .autonotebook import tqdm as notebook_tqdm\n",
      "/data/modelzoo/src/modelzoo/data/vision/datamodule.py:378: UserWarning: \n",
      "The version_base parameter is not specified.\n",
      "Please specify a compatability version level, or None.\n",
      "Will assume defaults for version 1.1\n",
      "  @hydra.main(config_path=str(PROJECT_ROOT / \"conf\"), config_name=\"default\")\n"
     ]
    },
    {
     "data": {
      "text/html": [
       "<pre style=\"white-space:pre;overflow-x:auto;line-height:normal;font-family:Menlo,'DejaVu Sans Mono',consolas,'Courier New',monospace\"><span style=\"color: #7fbfbf; text-decoration-color: #7fbfbf\">2023-10-12 16:39:40 </span><span style=\"color: #000080; text-decoration-color: #000080\">INFO    </span> Enabled visualizations:                      <a href=\"file:///data/modelzoo/src/modelzoo/pl_modules/aes/pl_autoencoder.py\" target=\"_blank\"><span style=\"color: #7f7f7f; text-decoration-color: #7f7f7f\">modelzoo.pl_modules.aes.pl_autoencoder</span></a><span style=\"color: #7f7f7f; text-decoration-color: #7f7f7f\">:</span><a href=\"file:///data/modelzoo/src/modelzoo/pl_modules/aes/pl_autoencoder.py#51\" target=\"_blank\"><span style=\"color: #7f7f7f; text-decoration-color: #7f7f7f\">51</span></a>\n",
       "<span style=\"color: #7fbfbf; text-decoration-color: #7fbfbf\">                    </span>         <span style=\"font-weight: bold\">[</span><span style=\"color: #008000; text-decoration-color: #008000\">'anchors_reconstructed'</span>, <span style=\"color: #008000; text-decoration-color: #008000\">'anchors_source'</span>,  <span style=\"color: #7f7f7f; text-decoration-color: #7f7f7f\">                                         </span>\n",
       "<span style=\"color: #7fbfbf; text-decoration-color: #7fbfbf\">                    </span>         <span style=\"color: #008000; text-decoration-color: #008000\">'validation_images_reconstructed'</span>,           <span style=\"color: #7f7f7f; text-decoration-color: #7f7f7f\">                                         </span>\n",
       "<span style=\"color: #7fbfbf; text-decoration-color: #7fbfbf\">                    </span>         <span style=\"color: #008000; text-decoration-color: #008000\">'validation_images_source'</span><span style=\"font-weight: bold\">]</span>                  <span style=\"color: #7f7f7f; text-decoration-color: #7f7f7f\">                                         </span>\n",
       "</pre>\n"
      ],
      "text/plain": [
       "\u001b[2;36m2023-10-12 16:39:40\u001b[0m\u001b[2;36m \u001b[0m\u001b[34mINFO    \u001b[0m Enabled visualizations:                      \u001b]8;id=491924;file:///data/modelzoo/src/modelzoo/pl_modules/aes/pl_autoencoder.py\u001b\\\u001b[2mmodelzoo.pl_modules.aes.pl_autoencoder\u001b[0m\u001b]8;;\u001b\\\u001b[2m:\u001b[0m\u001b]8;id=244981;file:///data/modelzoo/src/modelzoo/pl_modules/aes/pl_autoencoder.py#51\u001b\\\u001b[2m51\u001b[0m\u001b]8;;\u001b\\\n",
       "\u001b[2;36m                    \u001b[0m         \u001b[1m[\u001b[0m\u001b[32m'anchors_reconstructed'\u001b[0m, \u001b[32m'anchors_source'\u001b[0m,  \u001b[2m                                         \u001b[0m\n",
       "\u001b[2;36m                    \u001b[0m         \u001b[32m'validation_images_reconstructed'\u001b[0m,           \u001b[2m                                         \u001b[0m\n",
       "\u001b[2;36m                    \u001b[0m         \u001b[32m'validation_images_source'\u001b[0m\u001b[1m]\u001b[0m                  \u001b[2m                                         \u001b[0m\n"
      ]
     },
     "metadata": {},
     "output_type": "display_data"
    },
    {
     "name": "stderr",
     "output_type": "stream",
     "text": [
      "/root/miniconda3/envs/modelzoo/lib/python3.11/site-packages/pytorch_lightning/core/saving.py:161: UserWarning: Found keys that are in the model state dict but not in the checkpoint: ['autoencoder.anchors_images']\n",
      "  rank_zero_warn(\n"
     ]
    },
    {
     "data": {
      "text/plain": [
       "LightningAutoencoder(\n",
       "  (autoencoder): VanillaAE(\n",
       "    (encoder): Sequential(\n",
       "      (0): Conv2d(3, 32, kernel_size=(5, 5), stride=(1, 1))\n",
       "      (1): ReLU()\n",
       "      (2): BatchNorm2d(32, eps=1e-05, momentum=0.1, affine=True, track_running_stats=True)\n",
       "      (3): Conv2d(32, 32, kernel_size=(4, 4), stride=(2, 2), padding=(1, 1))\n",
       "      (4): ReLU()\n",
       "      (5): Conv2d(32, 16, kernel_size=(4, 4), stride=(2, 2), padding=(1, 1))\n",
       "      (6): ReLU()\n",
       "      (7): BatchNorm2d(16, eps=1e-05, momentum=0.1, affine=True, track_running_stats=True)\n",
       "    )\n",
       "    (decoder): Sequential(\n",
       "      (0): ConvTranspose2d(16, 32, kernel_size=(4, 4), stride=(2, 2), padding=(1, 1))\n",
       "      (1): ReLU()\n",
       "      (2): BatchNorm2d(32, eps=1e-05, momentum=0.1, affine=True, track_running_stats=True)\n",
       "      (3): ConvTranspose2d(32, 32, kernel_size=(4, 4), stride=(2, 2), padding=(1, 1))\n",
       "      (4): ReLU()\n",
       "      (5): BatchNorm2d(32, eps=1e-05, momentum=0.1, affine=True, track_running_stats=True)\n",
       "      (6): ConvTranspose2d(32, 3, kernel_size=(7, 7), stride=(1, 1), padding=(1, 1))\n",
       "      (7): Sigmoid()\n",
       "    )\n",
       "    (encoder_out): Identity()\n",
       "    (decoder_in): Identity()\n",
       "  )\n",
       ")"
      ]
     },
     "execution_count": 5,
     "metadata": {},
     "output_type": "execute_result"
    }
   ],
   "source": [
    "from modelzoo.utils.io_model import load_local_ckpt\n",
    "\n",
    "filepath = PACKAGE_ROOT / path\n",
    "model, ckpt = load_local_ckpt(filepath, strict=False)\n",
    "model\n"
   ]
  },
  {
   "cell_type": "markdown",
   "metadata": {},
   "source": [
    "## Extract configuration from ckpt"
   ]
  },
  {
   "cell_type": "code",
   "execution_count": 6,
   "metadata": {},
   "outputs": [
    {
     "data": {
      "text/plain": [
       "{'nn': {'data': {'_target_': 'modelzoo.data.vision.datamodule.MyDataModule', 'anchors_mode': 'stratified_subset', 'anchors_num': 500, 'anchors_idxs': None, 'latent_dim': None, 'val_images_fixed_idxs': [7371, 3963, 2861, 1701, 3172, 1749, 7023, 1606, 6481, 1377, 6003, 3593, 3410, 3399, 7277, 5337, 968, 8206, 288, 1968, 5677, 9156, 8139, 7660, 7089, 1893, 3845, 2084, 1944, 3375, 4848, 8704, 6038, 2183, 7422, 2682, 6878, 6127, 2941, 5823, 9129, 1798, 6477, 9264, 476, 3007, 4992, 1428, 9901, 5388], 'num_workers': {'train': 4, 'val': 2, 'test': 0}, 'batch_size': {'train': 512, 'val': 128, 'test': 16}, 'datasets': {'transforms': {'_target_': 'torchvision.transforms.Compose', 'transforms': [{'_target_': 'modelzoo.data.vision.data_transforms.ChannelOrder'}, {'_target_': 'modelzoo.data.vision.data_transforms.ChannelAdapt', 'in_channels': 3, 'out_channels': 3}, {'_target_': 'torchvision.transforms.Resize', 'size': 32, 'antialias': True}, {'_target_': 'modelzoo.data.vision.data_transforms.Normalize01'}]}, 'anchors': {'in_channels': 3, 'input_size': 32, 'transforms': {'_target_': 'torchvision.transforms.Compose', 'transforms': [{'_target_': 'modelzoo.data.vision.data_transforms.ChannelOrder'}, {'_target_': 'modelzoo.data.vision.data_transforms.ChannelAdapt', 'in_channels': 3, 'out_channels': 3}, {'_target_': 'torchvision.transforms.Resize', 'size': 32, 'antialias': True}, {'_target_': 'modelzoo.data.vision.data_transforms.Normalize01'}]}, 'name': 'cifar100', 'ref': 'cifar100', 'train_split': 'train', 'test_split': 'test', 'label_key': 'fine_label', 'image_key': 'img', 'num_classes': 100, 'standard_x_key': 'x', 'standard_y_key': 'y'}, 'train': {'in_channels': '???', 'input_size': '???', 'transforms': '???'}, 'val': {'in_channels': '???', 'input_size': '???', 'transforms': '???'}, 'hf': {'name': 'cifar100', 'ref': 'cifar100', 'train_split': 'train', 'test_split': 'test', 'label_key': 'fine_label', 'image_key': 'img', 'num_classes': 100, 'input_size': 32, 'in_channels': 3, 'transforms': {'_target_': 'torchvision.transforms.Compose', 'transforms': [{'_target_': 'modelzoo.data.vision.data_transforms.ChannelOrder'}, {'_target_': 'modelzoo.data.vision.data_transforms.ChannelAdapt', 'in_channels': 3, 'out_channels': 3}, {'_target_': 'torchvision.transforms.Resize', 'size': 32, 'antialias': True}, {'_target_': 'modelzoo.data.vision.data_transforms.Normalize01'}]}, 'standard_x_key': 'x', 'standard_y_key': 'y'}}}, 'module': {'model': {'input_size': 32, 'in_channels': 3, '_target_': 'modelzoo.modules.aes.ae.VanillaAE', 'encoder_layers_config': [{'_target_': 'anypy.nn.dyncnn.infer_convolution2d', 'input_shape': '???', 'output_shape': [-1, 32, 28, 28], 'kernel_size': None, 'stride': 1, 'padding': 0, 'dilation': 1}, {'_target_': 'torch.nn.ReLU'}, {'_target_': 'torch.nn.BatchNorm2d', 'num_features': 32}, {'_target_': 'anypy.nn.dyncnn.infer_convolution2d', 'input_shape': '???', 'output_shape': [-1, 32, 14, 14], 'kernel_size': 4, 'stride': 2, 'padding': None, 'dilation': 1}, {'_target_': 'torch.nn.ReLU'}, {'_target_': 'anypy.nn.dyncnn.infer_convolution2d', 'input_shape': '???', 'output_shape': [-1, 16, 7, 7], 'kernel_size': None, 'stride': 2, 'padding': 1, 'dilation': 1}, {'_target_': 'torch.nn.ReLU'}, {'_target_': 'torch.nn.BatchNorm2d', 'num_features': 16}], 'encoder_out_config': {'_target_': 'torch.nn.Identity'}, 'decoder_in_config': {'_target_': 'torch.nn.Identity'}, 'decoder_layers_config': [{'_target_': 'anypy.nn.dyncnn.infer_transposed_convolution2d', 'input_shape': '???', 'output_shape': [-1, 32, 14, 14], 'kernel_size': None, 'stride': 2, 'padding': 1, 'dilation': 1}, {'_target_': 'torch.nn.ReLU'}, {'_target_': 'torch.nn.BatchNorm2d', 'num_features': 32}, {'_target_': 'anypy.nn.dyncnn.infer_transposed_convolution2d', 'input_shape': '???', 'output_shape': [-1, 32, 28, 28], 'kernel_size': None, 'stride': 2, 'padding': 1, 'dilation': 1}, {'_target_': 'torch.nn.ReLU'}, {'_target_': 'torch.nn.BatchNorm2d', 'num_features': 32}, {'_target_': 'anypy.nn.dyncnn.infer_transposed_convolution2d', 'input_shape': '???', 'output_shape': '???', 'kernel_size': None, 'stride': 1, 'padding': 1, 'dilation': 1}, {'_target_': 'torch.nn.Sigmoid'}]}, 'plot_n_val_samples': 1000, 'fit_pca_each_epoch': True, 'optimizer': {'_target_': 'torch.optim.Adam', 'lr': 0.001, 'betas': [0.9, 0.999], 'eps': 1e-08, 'weight_decay': 0}, '_target_': 'modelzoo.pl_modules.aes.pl_autoencoder.LightningAutoencoder'}}, 'train': {'seed_index': 0, 'deterministic': False, 'trainer': {'fast_dev_run': False, 'accelerator': 'auto', 'devices': 1, 'precision': 32, 'max_epochs': 1000, 'max_steps': 10000000, 'accumulate_grad_batches': 1, 'num_sanity_val_steps': 2, 'gradient_clip_val': 0.5, 'check_val_every_n_epoch': 50, 'reload_dataloaders_every_n_epochs': 0, 'deterministic': False}, 'restore': {'ckpt_or_run_path': None, 'mode': None}, 'monitor': {'metric': 'val_stage/mse', 'mode': 'min'}, 'callbacks': [{'_target_': 'pytorch_lightning.callbacks.EarlyStopping', 'patience': 2, 'verbose': False, 'monitor': 'val_stage/mse', 'mode': 'min', 'min_delta': 1e-05}, {'_target_': 'pytorch_lightning.callbacks.ModelCheckpoint', 'save_top_k': 1, 'verbose': False, 'monitor': 'val_stage/mse', 'mode': 'min'}, {'_target_': 'pytorch_lightning.callbacks.LearningRateMonitor', 'logging_interval': 'step', 'log_momentum': False}, {'_target_': 'pytorch_lightning.callbacks.progress.tqdm_progress.TQDMProgressBar', 'refresh_rate': 250}], 'logging': {'upload': {'run_files': True, 'source': True}, 'logger': {'_target_': 'pytorch_lightning.loggers.WandbLogger', 'name': None, 'project': 'modelzoo', 'entity': 'gladia', 'log_model': True, 'mode': 'online', 'tags': ['aes', 'ae', 'cifar100', 'run0']}, 'wandb_watch': {'log': 'all', 'log_freq': 500}}}, 'x_key': 'x', 'y_key': 'y', 'core': {'project_name': 'modelzoo', 'storage_dir': '/root/modelzoo/storage', 'version': '0.0.1', 'name': None, 'tags': ['aes', 'ae', 'cifar100', 'run0']}}"
      ]
     },
     "execution_count": 6,
     "metadata": {},
     "output_type": "execute_result"
    }
   ],
   "source": [
    "from omegaconf import OmegaConf\n",
    "\n",
    "cfg = OmegaConf.create(ckpt[\"cfg\"])\n",
    "cfg\n"
   ]
  },
  {
   "cell_type": "code",
   "execution_count": 10,
   "metadata": {},
   "outputs": [
    {
     "data": {
      "text/plain": [
       "(<torch.utils.data.dataloader.DataLoader at 0x7fa1a48ff6d0>,\n",
       " <torch.utils.data.dataloader.DataLoader at 0x7fa1a188afd0>)"
      ]
     },
     "execution_count": 10,
     "metadata": {},
     "output_type": "execute_result"
    }
   ],
   "source": [
    "from torch.utils.data import DataLoader\n",
    "import hydra\n",
    "from functools import partial\n",
    "from modelzoo.data.vision.datamodule import collate_fn\n",
    "from omegaconf import OmegaConf\n",
    "\n",
    "# Instantiate validation and traing loaders, with correct transforms\n",
    "datamodule = hydra.utils.instantiate(OmegaConf.to_container(cfg.nn.data), _recursive_=False)\n",
    "datamodule.setup(stage=\"fit\")\n",
    "\n",
    "# Using the loaders from the datamodule ensures that the correct transforms are applied\n",
    "train_loader = datamodule.train_dataloader()\n",
    "val_loader = datamodule.val_dataloader()[0]\n",
    "\n",
    "train_loader, val_loader\n"
   ]
  },
  {
   "cell_type": "code",
   "execution_count": 12,
   "metadata": {},
   "outputs": [],
   "source": [
    "# Test inference on a batch\n",
    "\n",
    "batch = next(iter(train_loader))\n",
    "reconstruction = model(batch[\"x\"])[\"reconstruction\"].detach().cpu()\n"
   ]
  },
  {
   "cell_type": "code",
   "execution_count": 13,
   "metadata": {},
   "outputs": [],
   "source": [
    "idx = 0\n"
   ]
  },
  {
   "cell_type": "code",
   "execution_count": 17,
   "metadata": {},
   "outputs": [
    {
     "name": "stdout",
     "output_type": "stream",
     "text": [
      "MSE: 0.0005152642261236906\n"
     ]
    },
    {
     "data": {
      "image/png": "[encoded data removed]",
      "text/plain": [
       "<Figure size 1000x500 with 2 Axes>"
      ]
     },
     "metadata": {},
     "output_type": "display_data"
    }
   ],
   "source": [
    "import matplotlib.pyplot as plt\n",
    "import torch\n",
    "\n",
    "fig, axes = plt.subplots(1, 2, figsize=(10, 5))\n",
    "axes[0].imshow(batch[\"x\"][idx].permute(1, 2, 0))\n",
    "axes[0].title.set_text(\"Original\")\n",
    "axes[1].imshow(reconstruction[idx].permute(1, 2, 0))\n",
    "axes[1].title.set_text(\"Reconstruction\")\n",
    "\n",
    "print(f\"MSE: {torch.nn.functional.mse_loss(batch['x'][idx], reconstruction[idx])}\")\n",
    "idx += 1\n"
   ]
  },
  {
   "cell_type": "code",
   "execution_count": null,
   "metadata": {},
   "outputs": [],
   "source": []
  }
 ],
 "metadata": {
  "kernelspec": {
   "display_name": "modelzoo",
   "language": "python",
   "name": "python3"
  },
  "language_info": {
   "codemirror_mode": {
    "name": "ipython",
    "version": 3
   },
   "file_extension": ".py",
   "mimetype": "text/x-python",
   "name": "python",
   "nbconvert_exporter": "python",
   "pygments_lexer": "ipython3",
   "version": "3.11.4"
  }
 },
 "nbformat": 4,
 "nbformat_minor": 2
}
