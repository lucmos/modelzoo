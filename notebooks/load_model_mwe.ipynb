{
 "cells": [
  {
   "cell_type": "code",
   "execution_count": null,
   "metadata": {},
   "outputs": [],
   "source": [
    "from pathlib import Path\n",
    "from nn_core.common import PROJECT_ROOT\n",
    "import pandas as pd\n",
    "\n",
    "\n",
    "models = pd.read_csv(PROJECT_ROOT / \"models\" / \"index.csv\", sep=\"\\t\")\n",
    "models.head()"
   ]
  },
  {
   "cell_type": "code",
   "execution_count": null,
   "metadata": {},
   "outputs": [],
   "source": [
    "# row = models.iloc[30]\n",
    "row = models[models.model == \"modelzoo.modules.aes.ae.VanillaAE\"][models.dataset == \"cifar100\"].iloc[0]\n",
    "\n",
    "entity, project_name, run_id = row[\"entity\"], row[\"project_name\"], row[\"wandb_id\"]\n",
    "entity, project_name, run_id"
   ]
  },
  {
   "cell_type": "markdown",
   "metadata": {},
   "source": [
    "## W&B Loading"
   ]
  },
  {
   "cell_type": "code",
   "execution_count": null,
   "metadata": {},
   "outputs": [],
   "source": [
    "# from modelzoo.utils.io_model import load_wandb_ckpt\n",
    "\n",
    "# # Load the remote model\n",
    "# model, ckpt = load_wandb_ckpt(entity, project_name, run_id)\n",
    "# model"
   ]
  },
  {
   "cell_type": "markdown",
   "metadata": {},
   "source": [
    "## Local loading"
   ]
  },
  {
   "cell_type": "code",
   "execution_count": null,
   "metadata": {},
   "outputs": [],
   "source": [
    "from modelzoo.utils.io_model import load_local_ckpt\n",
    "\n",
    "filepath = PROJECT_ROOT / \"models\" / \"checkpoints\" / f\"{run_id}.ckpt.zip\"\n",
    "model, ckpt = load_local_ckpt(filepath)\n",
    "model"
   ]
  },
  {
   "cell_type": "markdown",
   "metadata": {},
   "source": [
    "## Extract configuration from ckpt"
   ]
  },
  {
   "cell_type": "code",
   "execution_count": null,
   "metadata": {},
   "outputs": [],
   "source": [
    "from omegaconf import OmegaConf\n",
    "\n",
    "cfg = OmegaConf.create(ckpt[\"cfg\"])\n",
    "cfg"
   ]
  },
  {
   "cell_type": "code",
   "execution_count": null,
   "metadata": {},
   "outputs": [],
   "source": [
    "from torch.utils.data import DataLoader\n",
    "import hydra\n",
    "from functools import partial\n",
    "from modelzoo.data.vision.datamodule import collate_fn\n",
    "from omegaconf import OmegaConf\n",
    "\n",
    "# Instantiate validation and traing loaders, with correct transforms\n",
    "datamodule = hydra.utils.instantiate(OmegaConf.to_container(cfg.nn.data), _recursive_=False)\n",
    "datamodule.setup(stage=\"fit\")\n",
    "train_dataset = datamodule.train_dataset\n",
    "val_dataset = datamodule.val_datasets[0]\n",
    "\n",
    "train_loader = DataLoader(\n",
    "    train_dataset,\n",
    "    batch_size=128,\n",
    "    pin_memory=True,\n",
    "    shuffle=False,\n",
    "    num_workers=4,\n",
    "    collate_fn=partial(collate_fn, split=\"train\", metadata=datamodule.metadata, transform=datamodule.transform_batch),\n",
    ")\n",
    "val_loader = DataLoader(\n",
    "    val_dataset,\n",
    "    batch_size=32,\n",
    "    pin_memory=True,\n",
    "    shuffle=False,\n",
    "    num_workers=4,\n",
    "    collate_fn=partial(collate_fn, split=\"val\", metadata=datamodule.metadata, transform=datamodule.transform_batch),\n",
    ")\n",
    "\n",
    "train_dataset, val_dataset"
   ]
  },
  {
   "cell_type": "code",
   "execution_count": null,
   "metadata": {},
   "outputs": [],
   "source": [
    "# Test inference on a batch\n",
    "\n",
    "batch = next(iter(train_loader))\n",
    "reconstruction = model(batch[\"x\"])[\"reconstruction\"].detach().cpu()"
   ]
  },
  {
   "cell_type": "code",
   "execution_count": null,
   "metadata": {},
   "outputs": [],
   "source": [
    "idx = 0"
   ]
  },
  {
   "cell_type": "code",
   "execution_count": null,
   "metadata": {},
   "outputs": [],
   "source": [
    "import matplotlib.pyplot as plt\n",
    "import torch\n",
    "\n",
    "fig, axes = plt.subplots(1, 2, figsize=(10, 5))\n",
    "axes[0].imshow(batch[\"x\"][idx].permute(1, 2, 0))\n",
    "axes[0].title.set_text(\"Original\")\n",
    "axes[1].imshow(reconstruction[idx].permute(1, 2, 0))\n",
    "axes[1].title.set_text(\"Reconstruction\")\n",
    "\n",
    "print(f\"MSE: {torch.nn.functional.mse_loss(batch['x'][idx], reconstruction[idx])}\")\n",
    "idx += 1"
   ]
  }
 ],
 "metadata": {
  "kernelspec": {
   "display_name": "modelzoo",
   "language": "python",
   "name": "python3"
  },
  "language_info": {
   "codemirror_mode": {
    "name": "ipython",
    "version": 3
   },
   "file_extension": ".py",
   "mimetype": "text/x-python",
   "name": "python",
   "nbconvert_exporter": "python",
   "pygments_lexer": "ipython3",
   "version": "3.11.4"
  }
 },
 "nbformat": 4,
 "nbformat_minor": 2
}
