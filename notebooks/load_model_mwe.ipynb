{
 "cells": [
  {
   "cell_type": "markdown",
   "metadata": {},
   "source": [
    "## W&B Loading"
   ]
  },
  {
   "cell_type": "code",
   "execution_count": null,
   "metadata": {},
   "outputs": [],
   "source": [
    "from modelzoo.utils.io_model import load_wandb_ckpt\n",
    "\n",
    "# Select your favorite run id from the wandb dashboard\n",
    "# https://wandb.ai/gladia/modelzoo/table?workspace=user-lucmos\n",
    "ENTITY = \"gladia\"\n",
    "PROJECT = \"modelzoo\"\n",
    "RUN_ID = \"04xt6ch5\"\n",
    "\n",
    "# Load the remote model\n",
    "model, ckpt = load_wandb_ckpt(ENTITY, PROJECT, RUN_ID)\n",
    "model"
   ]
  },
  {
   "cell_type": "markdown",
   "metadata": {},
   "source": [
    "## Local loading"
   ]
  },
  {
   "cell_type": "code",
   "execution_count": null,
   "metadata": {},
   "outputs": [],
   "source": [
    "from nn_core.common import PROJECT_ROOT\n",
    "from modelzoo.utils.io_model import load_local_ckpt\n",
    "\n",
    "filepath = PROJECT_ROOT / \"models\" / \"checkpoints\" / \"7v62350u.ckpt.zip\"\n",
    "model, ckpt = load_local_ckpt(filepath)\n",
    "model"
   ]
  },
  {
   "cell_type": "markdown",
   "metadata": {},
   "source": [
    "## Extract configuration from ckpt"
   ]
  },
  {
   "cell_type": "code",
   "execution_count": null,
   "metadata": {},
   "outputs": [],
   "source": [
    "from omegaconf import OmegaConf\n",
    "\n",
    "cfg = OmegaConf.create(ckpt[\"cfg\"])"
   ]
  },
  {
   "cell_type": "code",
   "execution_count": null,
   "metadata": {},
   "outputs": [],
   "source": [
    "from torch.utils.data import DataLoader\n",
    "import hydra\n",
    "from functools import partial\n",
    "from modelzoo.data.vision.datamodule import collate_fn\n",
    "from omegaconf import OmegaConf\n",
    "\n",
    "# Instantiate validation and traing loaders, with correct transforms\n",
    "datamodule = hydra.utils.instantiate(OmegaConf.to_container(cfg.nn.data), _recursive_=False)\n",
    "datamodule.setup(stage=\"fit\")\n",
    "train_dataset = datamodule.train_dataset\n",
    "val_dataset = datamodule.val_datasets[0]\n",
    "\n",
    "train_loader = DataLoader(\n",
    "    train_dataset,\n",
    "    batch_size=32,\n",
    "    pin_memory=True,\n",
    "    shuffle=False,\n",
    "    num_workers=4,\n",
    "    collate_fn=partial(collate_fn, split=\"train\", metadata=datamodule.metadata, transform=datamodule.transform_batch),\n",
    ")\n",
    "val_loader = DataLoader(\n",
    "    val_dataset,\n",
    "    batch_size=32,\n",
    "    pin_memory=True,\n",
    "    shuffle=False,\n",
    "    num_workers=4,\n",
    "    collate_fn=partial(collate_fn, split=\"val\", metadata=datamodule.metadata, transform=datamodule.transform_batch),\n",
    ")\n",
    "\n",
    "train_dataset, val_dataset"
   ]
  },
  {
   "cell_type": "code",
   "execution_count": null,
   "metadata": {},
   "outputs": [],
   "source": [
    "# Test inference on a batch\n",
    "\n",
    "batch = next(iter(train_loader))\n",
    "model(batch[\"x\"])"
   ]
  }
 ],
 "metadata": {
  "kernelspec": {
   "display_name": "modelzoo",
   "language": "python",
   "name": "python3"
  },
  "language_info": {
   "codemirror_mode": {
    "name": "ipython",
    "version": 3
   },
   "file_extension": ".py",
   "mimetype": "text/x-python",
   "name": "python",
   "nbconvert_exporter": "python",
   "pygments_lexer": "ipython3",
   "version": "3.11.4"
  }
 },
 "nbformat": 4,
 "nbformat_minor": 2
}
